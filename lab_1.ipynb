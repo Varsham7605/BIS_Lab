{
  "nbformat": 4,
  "nbformat_minor": 0,
  "metadata": {
    "colab": {
      "provenance": [],
      "authorship_tag": "ABX9TyPWyDEv/8FtnvS/XUNR4fgJ",
      "include_colab_link": true
    },
    "kernelspec": {
      "name": "python3",
      "display_name": "Python 3"
    },
    "language_info": {
      "name": "python"
    }
  },
  "cells": [
    {
      "cell_type": "markdown",
      "metadata": {
        "id": "view-in-github",
        "colab_type": "text"
      },
      "source": [
        "<a href=\"https://colab.research.google.com/github/Varsham7605/BIS_Lab/blob/main/lab_1.ipynb\" target=\"_parent\"><img src=\"https://colab.research.google.com/assets/colab-badge.svg\" alt=\"Open In Colab\"/></a>"
      ]
    },
    {
      "cell_type": "code",
      "execution_count": 3,
      "metadata": {
        "colab": {
          "base_uri": "https://localhost:8080/"
        },
        "id": "5Q8uQyjEQvZZ",
        "outputId": "b11f1221-3768-461c-9a49-81e7a6d40477"
      },
      "outputs": [
        {
          "output_type": "stream",
          "name": "stdout",
          "text": [
            "Initial Population: ['01100', '10111', '00101', '10011'] [12, 23, 5, 19]\n",
            "\n",
            "Generation 1\n",
            "x=12, bin=01100, fit=144, prob=0.136, exp_count=0.54\n",
            "x=23, bin=10111, fit=529, prob=0.500, exp_count=2.00\n",
            "x=5, bin=00101, fit=25, prob=0.024, exp_count=0.09\n",
            "x=19, bin=10011, fit=361, prob=0.341, exp_count=1.36\n",
            "\n",
            "Generation 2\n",
            "x=15, bin=01111, fit=225, prob=0.140, exp_count=0.56\n",
            "x=18, bin=10010, fit=324, prob=0.202, exp_count=0.81\n",
            "x=23, bin=10111, fit=529, prob=0.329, exp_count=1.32\n",
            "x=23, bin=10111, fit=529, prob=0.329, exp_count=1.32\n",
            "\n",
            "Generation 3\n",
            "x=23, bin=10111, fit=529, prob=0.392, exp_count=1.57\n",
            "x=16, bin=10000, fit=256, prob=0.190, exp_count=0.76\n",
            "x=6, bin=00110, fit=36, prob=0.027, exp_count=0.11\n",
            "x=23, bin=10111, fit=529, prob=0.392, exp_count=1.57\n",
            "\n",
            "Generation 4\n",
            "x=21, bin=10101, fit=441, prob=0.294, exp_count=1.18\n",
            "x=23, bin=10111, fit=529, prob=0.353, exp_count=1.41\n",
            "x=0, bin=00000, fit=0, prob=0.000, exp_count=0.00\n",
            "x=23, bin=10111, fit=529, prob=0.353, exp_count=1.41\n",
            "\n",
            "Generation 5\n",
            "x=17, bin=10001, fit=289, prob=0.187, exp_count=0.75\n",
            "x=17, bin=10001, fit=289, prob=0.187, exp_count=0.75\n",
            "x=23, bin=10111, fit=529, prob=0.342, exp_count=1.37\n",
            "x=21, bin=10101, fit=441, prob=0.285, exp_count=1.14\n",
            "\n",
            "Final Best Solution: 23 10111 fitness= 529\n"
          ]
        }
      ],
      "source": [
        "import random\n",
        "CHROM_LENGTH = 5\n",
        "POP_SIZE = 4\n",
        "CROSS_RATE = 0.8\n",
        "MUT_RATE = 0.1\n",
        "\n",
        "def fitness(x):\n",
        "    return x**2\n",
        "\n",
        "def encode(x):\n",
        "    return format(x, f'0{CHROM_LENGTH}b')\n",
        "\n",
        "def decode(b):\n",
        "    return int(b, 2)\n",
        "\n",
        "def roulette_selection(pop, fitnesses):\n",
        "    total_fit = sum(fitnesses)\n",
        "    pick = random.uniform(0, total_fit)\n",
        "    current = 0\n",
        "    for i, f in enumerate(fitnesses):\n",
        "        current += f\n",
        "        if current > pick:\n",
        "            return pop[i]\n",
        "    return pop[-1]\n",
        "\n",
        "def crossover(p1, p2):\n",
        "    if random.random() < CROSS_RATE:\n",
        "        point = random.randint(1, CHROM_LENGTH-1)\n",
        "        c1 = p1[:point] + p2[point:]\n",
        "        c2 = p2[:point] + p1[point:]\n",
        "        return c1, c2\n",
        "    return p1, p2\n",
        "\n",
        "def mutate(chrom):\n",
        "    chrom_list = list(chrom)\n",
        "    for i in range(CHROM_LENGTH):\n",
        "        if random.random() < MUT_RATE:\n",
        "            chrom_list[i] = '1' if chrom_list[i] == '0' else '0'\n",
        "    return ''.join(chrom_list)\n",
        "\n",
        "def genetic_algorithm():\n",
        "    population = [encode(x) for x in [12, 23, 5, 19]]\n",
        "    print(\"Initial Population:\", population, [decode(c) for c in population])\n",
        "\n",
        "    for gen in range(1, 6):\n",
        "        decoded = [decode(c) for c in population]\n",
        "        fitnesses = [fitness(x) for x in decoded]\n",
        "\n",
        "        total_fit = sum(fitnesses)\n",
        "        probs = [f/total_fit for f in fitnesses]\n",
        "        expected = [p*POP_SIZE for p in probs]\n",
        "\n",
        "        print(f\"\\nGeneration {gen}\")\n",
        "        for i in range(POP_SIZE):\n",
        "            print(f\"x={decoded[i]}, bin={population[i]}, fit={fitnesses[i]}, \"\n",
        "                  f\"prob={probs[i]:.3f}, exp_count={expected[i]:.2f}\")\n",
        "\n",
        "        new_pop = []\n",
        "        while len(new_pop) < POP_SIZE:\n",
        "            p1 = roulette_selection(population, fitnesses)\n",
        "            p2 = roulette_selection(population, fitnesses)\n",
        "            c1, c2 = crossover(p1, p2)\n",
        "            c1, c2 = mutate(c1), mutate(c2)\n",
        "            new_pop.extend([c1, c2])\n",
        "\n",
        "        population = new_pop[:POP_SIZE]\n",
        "\n",
        "    decoded = [decode(c) for c in population]\n",
        "    fitnesses = [fitness(x) for x in decoded]\n",
        "    best_idx = fitnesses.index(max(fitnesses))\n",
        "    print(\"\\nFinal Best Solution:\", decoded[best_idx], population[best_idx], \"fitness=\", fitnesses[best_idx])\n",
        "\n",
        "genetic_algorithm()\n"
      ]
    },
    {
      "cell_type": "code",
      "source": [],
      "metadata": {
        "id": "0ZVxBKL2VgyW"
      },
      "execution_count": null,
      "outputs": []
    }
  ]
}